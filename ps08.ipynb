{
 "cells": [
  {
   "cell_type": "markdown",
   "id": "e8c69a1f-f330-4951-83d5-ce34445a4466",
   "metadata": {},
   "source": [
    "# INFO 370 Problem Set 8: Applied Modeling\n",
    "*Name:* Israel Martinez\n",
    "\n",
    "This problem set has three goals:\n",
    "\n",
    "1. Use confusion matrices to understand a recent controversy around racial equality and criminal justice system.\n",
    "\n",
    "2. Use your logistic regression skills to develop and validate a model, analogous to the proprietary COMPAS model that caused the above-mentioned controversy.\n",
    "\n",
    "3. Encourage you to think over the role of statistical tools and AI in our policymaking process.\n",
    "\n",
    "## 1 Is COMPAS fair? (60)\n",
    "\n",
    "### Background\n",
    "Correctional Offender Management Profiling for Alternative Sanctions (COMPAS) algorithm is a commercial risk assessment tool that attempts to estimate a criminal defendents recidivism (when a criminal reoffends, i.e. commits another crime). COMPAS is reportedly one of the most widely used tools of its kind in the US. It is often used in the US criminal justice system to inform sentencing guidelines by judges, although specific rules and regulations vary.\n",
    "\n",
    "In 2016, ProPublica published an investigative report arguing that racial bias was evident in the COMPAS algorithm. ProPublica had constructed a dataset from Florida public records, and used logistic regression and confusion matrix in its analysis. COMPASs owners disputed this analysis, and other academics noted that for people with the same COMPAS score, but different races, the recidivism rates are effectively the same.\n",
    "\n",
    "The COMPAS algorithm is proprietary and not public. We know it includes 137 features, and deliberately excludes race. However, another study showed that a logistic regression with only 7 of those features was equally accurate! There are also some discussion  (admittedly the text is rather raw) in the lecture notes, ch 12.2.3.\n",
    "\n",
    "Note: Links are optional but very helpful readings for this problem set!\n",
    "\n",
    "### Dataset\n",
    "The dataset you will be working with is based off ProPublicas dataset, compiled from public records in Florida. However, it has been cleaned up for simplicity. You will only use a subset of the variables in the dataset for this exercise:\n",
    "\n",
    "age - Age in years\n",
    "\n",
    "c_charge_degree - Classifier for an individuals crime–F for felony, M for misdemeanor \n",
    "\n",
    "race - Classifier for the recorded race of each individual in this dataset. We will mainly consider Caucasian, and African-American here.\n",
    "\n",
    "age_cat - Classifies individuals as under 25, between 25 and 45, and older than 45\n",
    "\n",
    "sex - “Male” or “Female”.\n",
    "\n",
    "priors_count - Numeric, the number of previous crimes the individual has committed.\n",
    "\n",
    "decile_score - COMPAS classification of each individuals risk of recidivism (1 = low . . . 10 = high). This is the score computed by the proprietary model.\n",
    "\n",
    "two_year_recid - Binary variable, 1 if the individual recidivated within 2 years, 0 otherwise. This is the central outcome variable for our purpose.\n",
    "\n",
    "Note that we limit the analysis with the time period of two years since the first crime.\n",
    "\n",
    "Your task are the following:\n",
    "\n",
    "1. (2pt) Load the COMPAS data, and perform the basic sanity checks."
   ]
  },
  {
   "cell_type": "code",
   "execution_count": 1,
   "id": "2bbc8ff2-9988-4bf4-9ff1-73e04a2b5012",
   "metadata": {},
   "outputs": [],
   "source": [
    "# 3:45\n",
    "import pandas as pd\n",
    "import numpy as np\n",
    "import matplotlib.pyplot as plt"
   ]
  },
  {
   "cell_type": "code",
   "execution_count": 6,
   "id": "294a22b3-d9d4-4254-b9c1-b4477080074a",
   "metadata": {},
   "outputs": [],
   "source": [
    "compas = pd.read_csv(\"./data/compas-score-data.csv.bz2\", sep=\"\\t\")"
   ]
  },
  {
   "cell_type": "code",
   "execution_count": 7,
   "id": "cfc010eb-0fa7-4070-be8e-e5b8c4e479cd",
   "metadata": {},
   "outputs": [
    {
     "data": {
      "text/html": [
       "<div>\n",
       "<style scoped>\n",
       "    .dataframe tbody tr th:only-of-type {\n",
       "        vertical-align: middle;\n",
       "    }\n",
       "\n",
       "    .dataframe tbody tr th {\n",
       "        vertical-align: top;\n",
       "    }\n",
       "\n",
       "    .dataframe thead th {\n",
       "        text-align: right;\n",
       "    }\n",
       "</style>\n",
       "<table border=\"1\" class=\"dataframe\">\n",
       "  <thead>\n",
       "    <tr style=\"text-align: right;\">\n",
       "      <th></th>\n",
       "      <th>age</th>\n",
       "      <th>c_charge_degree</th>\n",
       "      <th>race</th>\n",
       "      <th>age_cat</th>\n",
       "      <th>sex</th>\n",
       "      <th>priors_count</th>\n",
       "      <th>decile_score</th>\n",
       "      <th>two_year_recid</th>\n",
       "    </tr>\n",
       "  </thead>\n",
       "  <tbody>\n",
       "    <tr>\n",
       "      <th>0</th>\n",
       "      <td>69</td>\n",
       "      <td>F</td>\n",
       "      <td>Other</td>\n",
       "      <td>Greater than 45</td>\n",
       "      <td>Male</td>\n",
       "      <td>0</td>\n",
       "      <td>1</td>\n",
       "      <td>0</td>\n",
       "    </tr>\n",
       "    <tr>\n",
       "      <th>1</th>\n",
       "      <td>34</td>\n",
       "      <td>F</td>\n",
       "      <td>African-American</td>\n",
       "      <td>25 - 45</td>\n",
       "      <td>Male</td>\n",
       "      <td>0</td>\n",
       "      <td>3</td>\n",
       "      <td>1</td>\n",
       "    </tr>\n",
       "    <tr>\n",
       "      <th>2</th>\n",
       "      <td>24</td>\n",
       "      <td>F</td>\n",
       "      <td>African-American</td>\n",
       "      <td>Less than 25</td>\n",
       "      <td>Male</td>\n",
       "      <td>4</td>\n",
       "      <td>4</td>\n",
       "      <td>1</td>\n",
       "    </tr>\n",
       "    <tr>\n",
       "      <th>3</th>\n",
       "      <td>44</td>\n",
       "      <td>M</td>\n",
       "      <td>Other</td>\n",
       "      <td>25 - 45</td>\n",
       "      <td>Male</td>\n",
       "      <td>0</td>\n",
       "      <td>1</td>\n",
       "      <td>0</td>\n",
       "    </tr>\n",
       "    <tr>\n",
       "      <th>4</th>\n",
       "      <td>41</td>\n",
       "      <td>F</td>\n",
       "      <td>Caucasian</td>\n",
       "      <td>25 - 45</td>\n",
       "      <td>Male</td>\n",
       "      <td>14</td>\n",
       "      <td>6</td>\n",
       "      <td>1</td>\n",
       "    </tr>\n",
       "  </tbody>\n",
       "</table>\n",
       "</div>"
      ],
      "text/plain": [
       "   age c_charge_degree              race          age_cat   sex  priors_count  \\\n",
       "0   69               F             Other  Greater than 45  Male             0   \n",
       "1   34               F  African-American          25 - 45  Male             0   \n",
       "2   24               F  African-American     Less than 25  Male             4   \n",
       "3   44               M             Other          25 - 45  Male             0   \n",
       "4   41               F         Caucasian          25 - 45  Male            14   \n",
       "\n",
       "   decile_score  two_year_recid  \n",
       "0             1               0  \n",
       "1             3               1  \n",
       "2             4               1  \n",
       "3             1               0  \n",
       "4             6               1  "
      ]
     },
     "execution_count": 7,
     "metadata": {},
     "output_type": "execute_result"
    }
   ],
   "source": [
    "compas.head()"
   ]
  },
  {
   "cell_type": "code",
   "execution_count": 8,
   "id": "faddce78-a919-49d7-83a4-61413e2de2df",
   "metadata": {},
   "outputs": [
    {
     "data": {
      "text/plain": [
       "(6172, 8)"
      ]
     },
     "execution_count": 8,
     "metadata": {},
     "output_type": "execute_result"
    }
   ],
   "source": [
    "compas.shape"
   ]
  },
  {
   "cell_type": "code",
   "execution_count": 9,
   "id": "f2e87db3-2547-4a11-ae2b-2432a416d962",
   "metadata": {},
   "outputs": [
    {
     "data": {
      "text/plain": [
       "age                0\n",
       "c_charge_degree    0\n",
       "race               0\n",
       "age_cat            0\n",
       "sex                0\n",
       "priors_count       0\n",
       "decile_score       0\n",
       "two_year_recid     0\n",
       "dtype: int64"
      ]
     },
     "execution_count": 9,
     "metadata": {},
     "output_type": "execute_result"
    }
   ],
   "source": [
    "compas.isna().sum()"
   ]
  },
  {
   "cell_type": "markdown",
   "id": "df9147bb-bfd6-4657-a0d9-acea0caf6a63",
   "metadata": {},
   "source": [
    "There's 6172 rows, 8 columns, and no missing data.\n",
    "\n",
    "2. (2pt) Filter the data to keep only Caucasian and African-Americans. There are just too few of offenders of other races"
   ]
  },
  {
   "cell_type": "code",
   "execution_count": 11,
   "id": "8703726a-ed3a-4746-aa59-42c6c9fcce69",
   "metadata": {},
   "outputs": [
    {
     "data": {
      "text/html": [
       "<div>\n",
       "<style scoped>\n",
       "    .dataframe tbody tr th:only-of-type {\n",
       "        vertical-align: middle;\n",
       "    }\n",
       "\n",
       "    .dataframe tbody tr th {\n",
       "        vertical-align: top;\n",
       "    }\n",
       "\n",
       "    .dataframe thead th {\n",
       "        text-align: right;\n",
       "    }\n",
       "</style>\n",
       "<table border=\"1\" class=\"dataframe\">\n",
       "  <thead>\n",
       "    <tr style=\"text-align: right;\">\n",
       "      <th></th>\n",
       "      <th>age</th>\n",
       "      <th>c_charge_degree</th>\n",
       "      <th>race</th>\n",
       "      <th>age_cat</th>\n",
       "      <th>sex</th>\n",
       "      <th>priors_count</th>\n",
       "      <th>decile_score</th>\n",
       "      <th>two_year_recid</th>\n",
       "    </tr>\n",
       "  </thead>\n",
       "  <tbody>\n",
       "    <tr>\n",
       "      <th>1</th>\n",
       "      <td>34</td>\n",
       "      <td>F</td>\n",
       "      <td>African-American</td>\n",
       "      <td>25 - 45</td>\n",
       "      <td>Male</td>\n",
       "      <td>0</td>\n",
       "      <td>3</td>\n",
       "      <td>1</td>\n",
       "    </tr>\n",
       "    <tr>\n",
       "      <th>2</th>\n",
       "      <td>24</td>\n",
       "      <td>F</td>\n",
       "      <td>African-American</td>\n",
       "      <td>Less than 25</td>\n",
       "      <td>Male</td>\n",
       "      <td>4</td>\n",
       "      <td>4</td>\n",
       "      <td>1</td>\n",
       "    </tr>\n",
       "    <tr>\n",
       "      <th>4</th>\n",
       "      <td>41</td>\n",
       "      <td>F</td>\n",
       "      <td>Caucasian</td>\n",
       "      <td>25 - 45</td>\n",
       "      <td>Male</td>\n",
       "      <td>14</td>\n",
       "      <td>6</td>\n",
       "      <td>1</td>\n",
       "    </tr>\n",
       "    <tr>\n",
       "      <th>6</th>\n",
       "      <td>39</td>\n",
       "      <td>M</td>\n",
       "      <td>Caucasian</td>\n",
       "      <td>25 - 45</td>\n",
       "      <td>Female</td>\n",
       "      <td>0</td>\n",
       "      <td>1</td>\n",
       "      <td>0</td>\n",
       "    </tr>\n",
       "    <tr>\n",
       "      <th>7</th>\n",
       "      <td>27</td>\n",
       "      <td>F</td>\n",
       "      <td>Caucasian</td>\n",
       "      <td>25 - 45</td>\n",
       "      <td>Male</td>\n",
       "      <td>0</td>\n",
       "      <td>4</td>\n",
       "      <td>0</td>\n",
       "    </tr>\n",
       "  </tbody>\n",
       "</table>\n",
       "</div>"
      ],
      "text/plain": [
       "   age c_charge_degree              race       age_cat     sex  priors_count  \\\n",
       "1   34               F  African-American       25 - 45    Male             0   \n",
       "2   24               F  African-American  Less than 25    Male             4   \n",
       "4   41               F         Caucasian       25 - 45    Male            14   \n",
       "6   39               M         Caucasian       25 - 45  Female             0   \n",
       "7   27               F         Caucasian       25 - 45    Male             0   \n",
       "\n",
       "   decile_score  two_year_recid  \n",
       "1             3               1  \n",
       "2             4               1  \n",
       "4             6               1  \n",
       "6             1               0  \n",
       "7             4               0  "
      ]
     },
     "execution_count": 11,
     "metadata": {},
     "output_type": "execute_result"
    }
   ],
   "source": [
    "compas2 = compas[(compas['race'] == \"Caucasian\") | \n",
    "                 (compas['race'] == \"African-American\")]\n",
    "compas2.head()"
   ]
  },
  {
   "cell_type": "markdown",
   "id": "cc069244-93e9-4c06-8e33-f39b8b072f3f",
   "metadata": {},
   "source": [
    "3. (2pt) Create a new dummy variable based off of COMPAS risk score (decile_score), which indicates if an individual was classified as low risk (score 1-4) or high risk (score 5-10)."
   ]
  },
  {
   "cell_type": "code",
   "execution_count": 12,
   "id": "e3500b19-40aa-47b0-b97e-a74410ec3888",
   "metadata": {},
   "outputs": [
    {
     "name": "stderr",
     "output_type": "stream",
     "text": [
      "<ipython-input-12-fe9a890c181e>:1: SettingWithCopyWarning: \n",
      "A value is trying to be set on a copy of a slice from a DataFrame.\n",
      "Try using .loc[row_indexer,col_indexer] = value instead\n",
      "\n",
      "See the caveats in the documentation: https://pandas.pydata.org/pandas-docs/stable/user_guide/indexing.html#returning-a-view-versus-a-copy\n",
      "  compas2['dec_dummy'] = pd.cut(compas.decile_score,\n"
     ]
    },
    {
     "data": {
      "text/html": [
       "<div>\n",
       "<style scoped>\n",
       "    .dataframe tbody tr th:only-of-type {\n",
       "        vertical-align: middle;\n",
       "    }\n",
       "\n",
       "    .dataframe tbody tr th {\n",
       "        vertical-align: top;\n",
       "    }\n",
       "\n",
       "    .dataframe thead th {\n",
       "        text-align: right;\n",
       "    }\n",
       "</style>\n",
       "<table border=\"1\" class=\"dataframe\">\n",
       "  <thead>\n",
       "    <tr style=\"text-align: right;\">\n",
       "      <th></th>\n",
       "      <th>age</th>\n",
       "      <th>c_charge_degree</th>\n",
       "      <th>race</th>\n",
       "      <th>age_cat</th>\n",
       "      <th>sex</th>\n",
       "      <th>priors_count</th>\n",
       "      <th>decile_score</th>\n",
       "      <th>two_year_recid</th>\n",
       "      <th>dec_dummy</th>\n",
       "    </tr>\n",
       "  </thead>\n",
       "  <tbody>\n",
       "    <tr>\n",
       "      <th>1</th>\n",
       "      <td>34</td>\n",
       "      <td>F</td>\n",
       "      <td>African-American</td>\n",
       "      <td>25 - 45</td>\n",
       "      <td>Male</td>\n",
       "      <td>0</td>\n",
       "      <td>3</td>\n",
       "      <td>1</td>\n",
       "      <td>low_risk</td>\n",
       "    </tr>\n",
       "    <tr>\n",
       "      <th>2</th>\n",
       "      <td>24</td>\n",
       "      <td>F</td>\n",
       "      <td>African-American</td>\n",
       "      <td>Less than 25</td>\n",
       "      <td>Male</td>\n",
       "      <td>4</td>\n",
       "      <td>4</td>\n",
       "      <td>1</td>\n",
       "      <td>low_risk</td>\n",
       "    </tr>\n",
       "    <tr>\n",
       "      <th>4</th>\n",
       "      <td>41</td>\n",
       "      <td>F</td>\n",
       "      <td>Caucasian</td>\n",
       "      <td>25 - 45</td>\n",
       "      <td>Male</td>\n",
       "      <td>14</td>\n",
       "      <td>6</td>\n",
       "      <td>1</td>\n",
       "      <td>high_risk</td>\n",
       "    </tr>\n",
       "    <tr>\n",
       "      <th>6</th>\n",
       "      <td>39</td>\n",
       "      <td>M</td>\n",
       "      <td>Caucasian</td>\n",
       "      <td>25 - 45</td>\n",
       "      <td>Female</td>\n",
       "      <td>0</td>\n",
       "      <td>1</td>\n",
       "      <td>0</td>\n",
       "      <td>low_risk</td>\n",
       "    </tr>\n",
       "    <tr>\n",
       "      <th>7</th>\n",
       "      <td>27</td>\n",
       "      <td>F</td>\n",
       "      <td>Caucasian</td>\n",
       "      <td>25 - 45</td>\n",
       "      <td>Male</td>\n",
       "      <td>0</td>\n",
       "      <td>4</td>\n",
       "      <td>0</td>\n",
       "      <td>low_risk</td>\n",
       "    </tr>\n",
       "  </tbody>\n",
       "</table>\n",
       "</div>"
      ],
      "text/plain": [
       "   age c_charge_degree              race       age_cat     sex  priors_count  \\\n",
       "1   34               F  African-American       25 - 45    Male             0   \n",
       "2   24               F  African-American  Less than 25    Male             4   \n",
       "4   41               F         Caucasian       25 - 45    Male            14   \n",
       "6   39               M         Caucasian       25 - 45  Female             0   \n",
       "7   27               F         Caucasian       25 - 45    Male             0   \n",
       "\n",
       "   decile_score  two_year_recid  dec_dummy  \n",
       "1             3               1   low_risk  \n",
       "2             4               1   low_risk  \n",
       "4             6               1  high_risk  \n",
       "6             1               0   low_risk  \n",
       "7             4               0   low_risk  "
      ]
     },
     "execution_count": 12,
     "metadata": {},
     "output_type": "execute_result"
    }
   ],
   "source": [
    "compas2['dec_dummy'] = pd.cut(compas.decile_score, \n",
    "                             bins=[-np.inf, 5, np.inf],\n",
    "                            labels=['low_risk', 'high_risk'], \n",
    "                             right=False)\n",
    "compas2.head()"
   ]
  },
  {
   "cell_type": "markdown",
   "id": "d6966911-b547-4660-bab1-54426e743ace",
   "metadata": {},
   "source": [
    "4. (6pt) Now analyze the offenders across this new risk category:\n",
    "\n",
    "    (a) What is the recidivism rate (percentage of offenders who re-commit the crime) for lowrisk and high-risk individuals?\n",
    "\n",
    "    (b) What are the recidivism rates for African-Americans and Caucasians?"
   ]
  },
  {
   "cell_type": "code",
   "execution_count": 14,
   "id": "134e91e7-5b03-4698-aeec-84095fea649f",
   "metadata": {},
   "outputs": [
    {
     "data": {
      "text/plain": [
       "(0.3200145296040683, 0.6344554455445545)"
      ]
     },
     "execution_count": 14,
     "metadata": {},
     "output_type": "execute_result"
    }
   ],
   "source": [
    "# (a)\n",
    "l_risk = compas2[compas2['dec_dummy'] == \"low_risk\"]\n",
    "h_risk = compas2[compas2['dec_dummy'] == \"high_risk\"]\n",
    "l_risk.two_year_recid.mean(), h_risk.two_year_recid.mean()"
   ]
  },
  {
   "cell_type": "markdown",
   "id": "9804b9db-8473-496f-9c7a-447af771c408",
   "metadata": {},
   "source": [
    "For low-risk individuals, the recidivism rate is  32%. For high-risk individuals, it is 63%."
   ]
  },
  {
   "cell_type": "code",
   "execution_count": 15,
   "id": "c56dfb11-a66d-41c7-89e0-51a7b25db4b9",
   "metadata": {},
   "outputs": [
    {
     "data": {
      "text/plain": [
       "(0.5231496062992126, 0.3908701854493581)"
      ]
     },
     "execution_count": 15,
     "metadata": {},
     "output_type": "execute_result"
    }
   ],
   "source": [
    "# (b)\n",
    "aa_indiv = compas2[compas2['race'] == \"African-American\"]\n",
    "white_indiv = compas2[compas2['race'] == \"Caucasian\"]\n",
    "aa_indiv.two_year_recid.mean(), white_indiv.two_year_recid.mean()"
   ]
  },
  {
   "cell_type": "markdown",
   "id": "dcac1ac6-6051-4b43-a9a2-bb828a7df3ce",
   "metadata": {},
   "source": [
    "For African-Americans, the recidivism rate is 52%. For Caucasian individuals, it is 39%.\n",
    "\n",
    "5. (10 pt) Now create a confusion matrix comparing COMPAS predictions for recidivism (low risk/high risk) and the actual two-year recidivism and interpret the results. In order to be on the same page, lets mark recidivists as positives.\n",
    "\n",
    "    Note: you do not have to predict anything here. COMPAS has made the prediction for you, this is the variable you created in 3 based on decile_score. See the referred articles about the controversy around COMPAS methodology.\n",
    "\n",
    "    Note 2: Do not just output a confusion matrix with accompanying text like “accuracy = x%, precision = y%”. Interpret your results such as “z% of recidivists were falsly classified as low-risk, COMPAS accurately classified N% of individuals, etc.”"
   ]
  },
  {
   "cell_type": "code",
   "execution_count": 16,
   "id": "b95f4965-a233-4711-be70-ceaf34889ae6",
   "metadata": {},
   "outputs": [],
   "source": [
    "from sklearn.metrics import confusion_matrix"
   ]
  },
  {
   "cell_type": "code",
   "execution_count": 17,
   "id": "a3757c38-11b8-4464-a72d-3feda627bcea",
   "metadata": {},
   "outputs": [
    {
     "name": "stderr",
     "output_type": "stream",
     "text": [
      "<ipython-input-17-c54425c975ae>:1: SettingWithCopyWarning: \n",
      "A value is trying to be set on a copy of a slice from a DataFrame.\n",
      "Try using .loc[row_indexer,col_indexer] = value instead\n",
      "\n",
      "See the caveats in the documentation: https://pandas.pydata.org/pandas-docs/stable/user_guide/indexing.html#returning-a-view-versus-a-copy\n",
      "  compas2['dum_num'] = pd.cut(compas2.decile_score,\n"
     ]
    },
    {
     "data": {
      "text/plain": [
       "array([[1872,  923],\n",
       "       [ 881, 1602]])"
      ]
     },
     "execution_count": 17,
     "metadata": {},
     "output_type": "execute_result"
    }
   ],
   "source": [
    "compas2['dum_num'] = pd.cut(compas2.decile_score,\n",
    "                           bins=[-np.inf, 5, np.inf],\n",
    "                           labels=[0, 1], right=False)\n",
    "mtx_decile = confusion_matrix(compas2.two_year_recid, \n",
    "                              compas2.dum_num)\n",
    "mtx_decile"
   ]
  },
  {
   "cell_type": "code",
   "execution_count": 18,
   "id": "7724c333-80c6-49dc-82b1-edb74c971606",
   "metadata": {},
   "outputs": [
    {
     "name": "stdout",
     "output_type": "stream",
     "text": [
      "Accuracy: 0.6582038651004168\n"
     ]
    }
   ],
   "source": [
    "# Accuracy\n",
    "tp = 1602\n",
    "tn = 1872\n",
    "fp = 923\n",
    "fn = 881\n",
    "t = tp + tn + fp + fn\n",
    "print('Accuracy:', (tn + tp)/t)"
   ]
  },
  {
   "cell_type": "code",
   "execution_count": 19,
   "id": "0b52c651-aa9e-4a28-bbf5-c87a83265dba",
   "metadata": {},
   "outputs": [
    {
     "name": "stdout",
     "output_type": "stream",
     "text": [
      "Precision: 0.6344554455445545\n"
     ]
    }
   ],
   "source": [
    "# Precision\n",
    "print('Precision:', tp / (tp + fp))"
   ]
  },
  {
   "cell_type": "code",
   "execution_count": 20,
   "id": "84453d5d-1aab-4643-a712-4c793febca71",
   "metadata": {},
   "outputs": [
    {
     "name": "stdout",
     "output_type": "stream",
     "text": [
      "Recall: 0.6451872734595248\n"
     ]
    }
   ],
   "source": [
    "# Recall\n",
    "print('Recall:', tp / (tp + fn))"
   ]
  },
  {
   "cell_type": "code",
   "execution_count": 22,
   "id": "fce56dda-5a9c-42fd-ac8c-0b8714403a70",
   "metadata": {},
   "outputs": [
    {
     "name": "stdout",
     "output_type": "stream",
     "text": [
      "F-Score: 0.639776357827476\n"
     ]
    }
   ],
   "source": [
    "from sklearn.metrics import f1_score\n",
    "print('F-Score:', f1_score(compas2.two_year_recid, compas2.dum_num))"
   ]
  },
  {
   "cell_type": "markdown",
   "id": "95227a7c-90a6-44c6-95d4-1a2c5443103a",
   "metadata": {},
   "source": [
    "Looking at the accuracy value, I know that the model accurately predicted 66% of individuals' recidivism rate. The precision value tells me that 63% of individuals were accurately predicted to recommit an offense. The recall value I got tells me how many of the positive recidivism cases were predicted correctly with the model, which was around 65%.\n",
    "\n",
    "6. (12pt) Note the accuracy of the COMPAS classification, and also how its errors were distributed. Would you feel comfortable having a judge to use COMPAS to inform sentencing guidelines? At what point would the error/misclassification risk be acceptable for you?\n",
    "\n",
    "    Remember: human judges are not perfect either!\n",
    "\n",
    "Since the accuracy from the model was only 66%, I wouldn't feel comfortable having a judge use COMPAS to inform sentencing guidelines. It means that only 2/3 of cases were accurately predicted. Although this seems like a good number, according to the data there was 923 false negative cases, meaning this many people were falsely predicted to recidivate within 2 years. Personally, the error/misclassification risk would be acceptable if it was 85% or higher because this ultimately decides the fate of real lives. Their lives shouldn't be taken lightly."
   ]
  },
  {
   "cell_type": "markdown",
   "id": "31f66841-f3e0-426e-a782-4138d683fccc",
   "metadata": {},
   "source": [
    "7. (14pt) Now repeat your confusion matrix calculation and analysis from 5. But this time do it separately for African-Americans and for Caucasians:\n",
    "\n",
    "    (a) How accurate is the COMPAS classification for African-American individuals? For Caucasians?\n",
    "    \n",
    "    (b) What are the false positive rates (false recidivism rates) FPR = FP/N = FP/(FP + TN)?\n",
    "    \n",
    "    (c) The false negative rates (false no-recidivism rates) FNR = FN/P = FN/(FN + TP)?"
   ]
  },
  {
   "cell_type": "code",
   "execution_count": 27,
   "id": "63468b38-0e33-4ad2-a8a4-1dbc9eb02ecc",
   "metadata": {},
   "outputs": [],
   "source": [
    "from sklearn.metrics import precision_score\n",
    "from sklearn.metrics import accuracy_score\n",
    "from sklearn.metrics import recall_score"
   ]
  },
  {
   "cell_type": "code",
   "execution_count": 24,
   "id": "93a08aa8-4389-4a3a-bc86-cb50015e1ea4",
   "metadata": {},
   "outputs": [
    {
     "data": {
      "text/plain": [
       "array([[ 873,  641],\n",
       "       [ 473, 1188]])"
      ]
     },
     "execution_count": 24,
     "metadata": {},
     "output_type": "execute_result"
    }
   ],
   "source": [
    "# African-Americans\n",
    "aa_compas = compas2[compas2['race'] == \"African-American\"]\n",
    "mtx_aa = confusion_matrix(aa_compas.two_year_recid, aa_compas.dum_num)\n",
    "mtx_aa"
   ]
  },
  {
   "cell_type": "code",
   "execution_count": 28,
   "id": "bde24788-5a21-418d-b2d0-7c9f0dac6dc4",
   "metadata": {},
   "outputs": [
    {
     "name": "stdout",
     "output_type": "stream",
     "text": [
      "African-Americans\n",
      "Accuracy: 0.6491338582677165\n",
      "Precision: 0.6495352651722253\n",
      "False Positives: 0.4233817701453104\n",
      "False Negatives: 0.2847682119205298\n"
     ]
    }
   ],
   "source": [
    "fp_aa = mtx_aa[0, 1]\n",
    "tn_aa = mtx_aa[0, 0]\n",
    "fn_aa = mtx_aa[1, 0]\n",
    "tp_aa = mtx_aa[1, 1]\n",
    "print(\"African-Americans\")\n",
    "print(\"Accuracy:\", accuracy_score(aa_compas.two_year_recid,\n",
    "                                 aa_compas.dum_num))\n",
    "print(\"Precision:\", precision_score(aa_compas.two_year_recid,\n",
    "                                 aa_compas.dum_num))\n",
    "print(\"False Positives:\", (fp_aa / (fp_aa + tn_aa)))\n",
    "print(\"False Negatives:\", (fn_aa / (fn_aa + tp_aa)))"
   ]
  },
  {
   "cell_type": "code",
   "execution_count": 25,
   "id": "73f88e34-54a8-4eb9-bc4d-629152e229a5",
   "metadata": {},
   "outputs": [
    {
     "data": {
      "text/plain": [
       "array([[999, 282],\n",
       "       [408, 414]])"
      ]
     },
     "execution_count": 25,
     "metadata": {},
     "output_type": "execute_result"
    }
   ],
   "source": [
    "# Whites\n",
    "white_compas = compas2[compas2['race'] == \"Caucasian\"]\n",
    "mtx_white = confusion_matrix(white_compas.two_year_recid, \n",
    "                             white_compas.dum_num)\n",
    "mtx_white"
   ]
  },
  {
   "cell_type": "code",
   "execution_count": 30,
   "id": "46d8c730-9d14-4ef0-844e-185d8885ccb2",
   "metadata": {},
   "outputs": [
    {
     "name": "stdout",
     "output_type": "stream",
     "text": [
      "Caucasions\n",
      "Accuracy: 0.6718972895863052\n",
      "Precision: 0.5948275862068966\n",
      "False Positives: 0.22014051522248243\n",
      "False Negatives: 0.49635036496350365\n"
     ]
    }
   ],
   "source": [
    "fp_white = mtx_white[0, 1]\n",
    "tn_white = mtx_white[0, 0]\n",
    "fn_white = mtx_white[1, 0]\n",
    "tp_white = mtx_white[1, 1]\n",
    "print(\"Caucasions\")\n",
    "print(\"Accuracy:\", accuracy_score(white_compas.two_year_recid,\n",
    "                                 white_compas.dum_num))\n",
    "print(\"Precision:\", precision_score(white_compas.two_year_recid,\n",
    "                                 white_compas.dum_num))\n",
    "print(\"False Positives:\", (fp_white / (fp_white + tn_white)))\n",
    "print(\"False Negatives:\", (fn_white / (fn_white + tp_white)))"
   ]
  },
  {
   "cell_type": "markdown",
   "id": "41411e77-4ed4-4ab0-99e0-3464e040d999",
   "metadata": {},
   "source": [
    "(a) African-American individuals have nearly a 65% accuracy rate, while Caucasions have 67%.\n",
    "\n",
    "(b) African-American individuals have 42% false positives, while Caucasions have 22%.\n",
    "\n",
    "(c) African-American individuals have 28% false negatives, while Caucasions have nearly 50%."
   ]
  },
  {
   "cell_type": "markdown",
   "id": "18aa8aa2-48f1-4b57-9605-7ea1716e032e",
   "metadata": {},
   "source": [
    "8. (12pt) If you have done this correctly, you will find that COMPAS’s true negative and true positive percentages are fairly similar for African-American and Caucasian individuals, but that false positive rates and false negative rates are different. Look again at the overal recidivism rates in the dataset for Black and White individuals. In your opinion, is the COMPAS algorithm fair? Justify your answer.\n",
    "\n",
    "    Hint: This is not a trick question. If you read the first two recommended readings, you will find that people disagree how you define fairness. Your answer will not be graded on which side you take, but on your justification.\n",
    "    \n",
    "I personally do not think that the COMPAS algorithm is fair because there are multiple inequities happening in this model. Caucasians get nearly half false positive cases as African-American individuals. Also, African-Americans get nearly half negative cases compared to Caucasians, meaning judges are more forgiving on them and they are harsher on African-Americans. I believe that the false negatives for Caucasians are particularly high, with almost 50%. To follow this algorithm is dangerous to the public and dangerous for the freedoms of African-Americans."
   ]
  },
  {
   "cell_type": "markdown",
   "id": "aec6bee1-9709-4e86-b783-1c7cf693a91d",
   "metadata": {},
   "source": [
    "## 2 Can you beat COMPAS? (40pt)\n",
    "COMPAS model has created quite a bit controversy. One issue frequently brought up is that it is “closed source”, i.e. its inner workings are not available neither for public nor for the judges who\n",
    "are actually making the decisions. But is it a big problem? Maybe you can devise as good a model as COMPAS to predict recidivism? Maybe you can do even better? Let’s try!\n",
    "\n",
    "We proceed as follows:\n",
    "\n",
    "• Note that you should not use variable score_text that originates from COMPAS model. Do you see why?\n",
    "\n",
    "• First we devise a model that explicitly does not include gender and race. Your task is to use cross-validation to develop the best model you can do based on the available variables.\n",
    "\n",
    "• Thereafter we add gender and see if gender improves the model performance.\n",
    "\n",
    "• And finally we also add race and see if race has an additional explanatory effect, i.e. does race help to improve the performance of the model.\n",
    "\n",
    "\n",
    "More detailed tasks are here:\n",
    "\n",
    "1. (8pt) Before we start: what do you think, what is an appropriate model performance measure here? A, P, R, F or something else? Maybe you want to report multiple measures? Explain!"
   ]
  },
  {
   "cell_type": "markdown",
   "id": "1f4d6aff-e532-49f9-886e-158911d9046d",
   "metadata": {},
   "source": [
    "I believ that the new COMPAS model should priortize the precision measure because we use that when false-positives are worse than false-negatives. False-positives in the COMPAS model means that the individual was falsely predicted to recidivate. If the other measures were considered, I would put recall as the second most import because it detects false negatives, or people who were inaccurately predicted to not recidivate."
   ]
  },
  {
   "cell_type": "markdown",
   "id": "76162aea-19ff-4abe-b4bc-e97d8ee41c3d",
   "metadata": {},
   "source": [
    "2. (6pt) Now it is time to do the modeling. Create a logistic regression model that contains all explanatory variables you have in data into the model. (Some of these you have to convert to dummies). Do not include the variables discussed above, do not include race and gender in this model either to avoid explicit gender/racial bias.\n",
    "\n",
    "    Use 10-fold CV to compute its relevant performance measure(s) you discussed above."
   ]
  },
  {
   "cell_type": "code",
   "execution_count": 32,
   "id": "9bcf6680-2637-4a7b-9754-cc59ef5dd47e",
   "metadata": {},
   "outputs": [
    {
     "name": "stderr",
     "output_type": "stream",
     "text": [
      "<ipython-input-32-4f213bb90998>:1: SettingWithCopyWarning: \n",
      "A value is trying to be set on a copy of a slice from a DataFrame.\n",
      "Try using .loc[row_indexer,col_indexer] = value instead\n",
      "\n",
      "See the caveats in the documentation: https://pandas.pydata.org/pandas-docs/stable/user_guide/indexing.html#returning-a-view-versus-a-copy\n",
      "  compas2['charge_dum'] = np.where(compas2.c_charge_degree == 'F', 1, 0)\n"
     ]
    },
    {
     "data": {
      "text/html": [
       "<div>\n",
       "<style scoped>\n",
       "    .dataframe tbody tr th:only-of-type {\n",
       "        vertical-align: middle;\n",
       "    }\n",
       "\n",
       "    .dataframe tbody tr th {\n",
       "        vertical-align: top;\n",
       "    }\n",
       "\n",
       "    .dataframe thead th {\n",
       "        text-align: right;\n",
       "    }\n",
       "</style>\n",
       "<table border=\"1\" class=\"dataframe\">\n",
       "  <thead>\n",
       "    <tr style=\"text-align: right;\">\n",
       "      <th></th>\n",
       "      <th>age</th>\n",
       "      <th>c_charge_degree</th>\n",
       "      <th>race</th>\n",
       "      <th>age_cat</th>\n",
       "      <th>sex</th>\n",
       "      <th>priors_count</th>\n",
       "      <th>decile_score</th>\n",
       "      <th>two_year_recid</th>\n",
       "      <th>dec_dummy</th>\n",
       "      <th>dum_num</th>\n",
       "      <th>charge_dum</th>\n",
       "    </tr>\n",
       "  </thead>\n",
       "  <tbody>\n",
       "    <tr>\n",
       "      <th>1</th>\n",
       "      <td>34</td>\n",
       "      <td>F</td>\n",
       "      <td>African-American</td>\n",
       "      <td>25 - 45</td>\n",
       "      <td>Male</td>\n",
       "      <td>0</td>\n",
       "      <td>3</td>\n",
       "      <td>1</td>\n",
       "      <td>low_risk</td>\n",
       "      <td>0</td>\n",
       "      <td>1</td>\n",
       "    </tr>\n",
       "    <tr>\n",
       "      <th>2</th>\n",
       "      <td>24</td>\n",
       "      <td>F</td>\n",
       "      <td>African-American</td>\n",
       "      <td>Less than 25</td>\n",
       "      <td>Male</td>\n",
       "      <td>4</td>\n",
       "      <td>4</td>\n",
       "      <td>1</td>\n",
       "      <td>low_risk</td>\n",
       "      <td>0</td>\n",
       "      <td>1</td>\n",
       "    </tr>\n",
       "    <tr>\n",
       "      <th>4</th>\n",
       "      <td>41</td>\n",
       "      <td>F</td>\n",
       "      <td>Caucasian</td>\n",
       "      <td>25 - 45</td>\n",
       "      <td>Male</td>\n",
       "      <td>14</td>\n",
       "      <td>6</td>\n",
       "      <td>1</td>\n",
       "      <td>high_risk</td>\n",
       "      <td>1</td>\n",
       "      <td>1</td>\n",
       "    </tr>\n",
       "    <tr>\n",
       "      <th>6</th>\n",
       "      <td>39</td>\n",
       "      <td>M</td>\n",
       "      <td>Caucasian</td>\n",
       "      <td>25 - 45</td>\n",
       "      <td>Female</td>\n",
       "      <td>0</td>\n",
       "      <td>1</td>\n",
       "      <td>0</td>\n",
       "      <td>low_risk</td>\n",
       "      <td>0</td>\n",
       "      <td>0</td>\n",
       "    </tr>\n",
       "    <tr>\n",
       "      <th>7</th>\n",
       "      <td>27</td>\n",
       "      <td>F</td>\n",
       "      <td>Caucasian</td>\n",
       "      <td>25 - 45</td>\n",
       "      <td>Male</td>\n",
       "      <td>0</td>\n",
       "      <td>4</td>\n",
       "      <td>0</td>\n",
       "      <td>low_risk</td>\n",
       "      <td>0</td>\n",
       "      <td>1</td>\n",
       "    </tr>\n",
       "  </tbody>\n",
       "</table>\n",
       "</div>"
      ],
      "text/plain": [
       "   age c_charge_degree              race       age_cat     sex  priors_count  \\\n",
       "1   34               F  African-American       25 - 45    Male             0   \n",
       "2   24               F  African-American  Less than 25    Male             4   \n",
       "4   41               F         Caucasian       25 - 45    Male            14   \n",
       "6   39               M         Caucasian       25 - 45  Female             0   \n",
       "7   27               F         Caucasian       25 - 45    Male             0   \n",
       "\n",
       "   decile_score  two_year_recid  dec_dummy dum_num  charge_dum  \n",
       "1             3               1   low_risk       0           1  \n",
       "2             4               1   low_risk       0           1  \n",
       "4             6               1  high_risk       1           1  \n",
       "6             1               0   low_risk       0           0  \n",
       "7             4               0   low_risk       0           1  "
      ]
     },
     "execution_count": 32,
     "metadata": {},
     "output_type": "execute_result"
    }
   ],
   "source": [
    "compas2['charge_dum'] = np.where(compas2.c_charge_degree == 'F', 1, 0)\n",
    "compas2.head()"
   ]
  },
  {
   "cell_type": "code",
   "execution_count": 37,
   "id": "84acfc3c-f341-41ef-9713-20499750a61b",
   "metadata": {},
   "outputs": [],
   "source": [
    "from sklearn.linear_model import LogisticRegression\n",
    "from sklearn.model_selection import cross_val_score"
   ]
  },
  {
   "cell_type": "code",
   "execution_count": 36,
   "id": "de963abc-704b-4cea-937f-6d687936f8c8",
   "metadata": {},
   "outputs": [],
   "source": [
    "X = compas2[['charge_dum', 'age', 'decile_score', 'priors_count']]\n",
    "y = compas2.two_year_recid.values\n",
    "m = LogisticRegression().fit(X, y)"
   ]
  },
  {
   "cell_type": "code",
   "execution_count": 38,
   "id": "c1a3732e-f0e2-4c0f-b086-91fa6973e1db",
   "metadata": {},
   "outputs": [
    {
     "data": {
      "text/plain": [
       "(0.679228120867115, 0.6800350481668023)"
      ]
     },
     "execution_count": 38,
     "metadata": {},
     "output_type": "execute_result"
    }
   ],
   "source": [
    "cval_accuracy = cross_val_score(m, X, y, scoring=\"accuracy\", cv=10)\n",
    "cval_precision = cross_val_score(m, X, y, scoring=\"precision\", cv=10)\n",
    "cval_accuracy.mean(), cval_precision.mean()"
   ]
  },
  {
   "cell_type": "markdown",
   "id": "8e42169d-2969-46a2-86c6-f7c33ccc14ca",
   "metadata": {},
   "source": [
    "3. (6pt) Experiment with different models to find the best model according to your preformance indicator. (Include/exclude different variables, you may also do feature engineering, e.g. create different age groups, include variables like age2, age2, interaction effects, etc. But do not include race and gender.\n",
    "\n",
    "    Report what did you try (but no need to report the full results of all unsuccessful models you tried), and your best model’s performance. Is it better or worse than for the COMPAS model?"
   ]
  },
  {
   "cell_type": "code",
   "execution_count": 39,
   "id": "61f24277-952b-446b-a11c-29e6906bdc76",
   "metadata": {},
   "outputs": [
    {
     "name": "stderr",
     "output_type": "stream",
     "text": [
      "<ipython-input-39-978855d840e2>:1: SettingWithCopyWarning: \n",
      "A value is trying to be set on a copy of a slice from a DataFrame.\n",
      "Try using .loc[row_indexer,col_indexer] = value instead\n",
      "\n",
      "See the caveats in the documentation: https://pandas.pydata.org/pandas-docs/stable/user_guide/indexing.html#returning-a-view-versus-a-copy\n",
      "  compas2['dec_sq5'] = compas2['decile_score']**5\n",
      "<ipython-input-39-978855d840e2>:2: SettingWithCopyWarning: \n",
      "A value is trying to be set on a copy of a slice from a DataFrame.\n",
      "Try using .loc[row_indexer,col_indexer] = value instead\n",
      "\n",
      "See the caveats in the documentation: https://pandas.pydata.org/pandas-docs/stable/user_guide/indexing.html#returning-a-view-versus-a-copy\n",
      "  compas2['priors_sq'] = compas2['priors_count']**2\n",
      "<ipython-input-39-978855d840e2>:3: SettingWithCopyWarning: \n",
      "A value is trying to be set on a copy of a slice from a DataFrame.\n",
      "Try using .loc[row_indexer,col_indexer] = value instead\n",
      "\n",
      "See the caveats in the documentation: https://pandas.pydata.org/pandas-docs/stable/user_guide/indexing.html#returning-a-view-versus-a-copy\n",
      "  compas2['dec_priors'] = compas2['decile_score'] * compas2['priors_count']\n"
     ]
    },
    {
     "data": {
      "text/html": [
       "<div>\n",
       "<style scoped>\n",
       "    .dataframe tbody tr th:only-of-type {\n",
       "        vertical-align: middle;\n",
       "    }\n",
       "\n",
       "    .dataframe tbody tr th {\n",
       "        vertical-align: top;\n",
       "    }\n",
       "\n",
       "    .dataframe thead th {\n",
       "        text-align: right;\n",
       "    }\n",
       "</style>\n",
       "<table border=\"1\" class=\"dataframe\">\n",
       "  <thead>\n",
       "    <tr style=\"text-align: right;\">\n",
       "      <th></th>\n",
       "      <th>age</th>\n",
       "      <th>c_charge_degree</th>\n",
       "      <th>race</th>\n",
       "      <th>age_cat</th>\n",
       "      <th>sex</th>\n",
       "      <th>priors_count</th>\n",
       "      <th>decile_score</th>\n",
       "      <th>two_year_recid</th>\n",
       "      <th>dec_dummy</th>\n",
       "      <th>dum_num</th>\n",
       "      <th>charge_dum</th>\n",
       "      <th>dec_sq5</th>\n",
       "      <th>priors_sq</th>\n",
       "      <th>dec_priors</th>\n",
       "    </tr>\n",
       "  </thead>\n",
       "  <tbody>\n",
       "    <tr>\n",
       "      <th>1</th>\n",
       "      <td>34</td>\n",
       "      <td>F</td>\n",
       "      <td>African-American</td>\n",
       "      <td>25 - 45</td>\n",
       "      <td>Male</td>\n",
       "      <td>0</td>\n",
       "      <td>3</td>\n",
       "      <td>1</td>\n",
       "      <td>low_risk</td>\n",
       "      <td>0</td>\n",
       "      <td>1</td>\n",
       "      <td>243</td>\n",
       "      <td>0</td>\n",
       "      <td>0</td>\n",
       "    </tr>\n",
       "    <tr>\n",
       "      <th>2</th>\n",
       "      <td>24</td>\n",
       "      <td>F</td>\n",
       "      <td>African-American</td>\n",
       "      <td>Less than 25</td>\n",
       "      <td>Male</td>\n",
       "      <td>4</td>\n",
       "      <td>4</td>\n",
       "      <td>1</td>\n",
       "      <td>low_risk</td>\n",
       "      <td>0</td>\n",
       "      <td>1</td>\n",
       "      <td>1024</td>\n",
       "      <td>16</td>\n",
       "      <td>16</td>\n",
       "    </tr>\n",
       "    <tr>\n",
       "      <th>4</th>\n",
       "      <td>41</td>\n",
       "      <td>F</td>\n",
       "      <td>Caucasian</td>\n",
       "      <td>25 - 45</td>\n",
       "      <td>Male</td>\n",
       "      <td>14</td>\n",
       "      <td>6</td>\n",
       "      <td>1</td>\n",
       "      <td>high_risk</td>\n",
       "      <td>1</td>\n",
       "      <td>1</td>\n",
       "      <td>7776</td>\n",
       "      <td>196</td>\n",
       "      <td>84</td>\n",
       "    </tr>\n",
       "    <tr>\n",
       "      <th>6</th>\n",
       "      <td>39</td>\n",
       "      <td>M</td>\n",
       "      <td>Caucasian</td>\n",
       "      <td>25 - 45</td>\n",
       "      <td>Female</td>\n",
       "      <td>0</td>\n",
       "      <td>1</td>\n",
       "      <td>0</td>\n",
       "      <td>low_risk</td>\n",
       "      <td>0</td>\n",
       "      <td>0</td>\n",
       "      <td>1</td>\n",
       "      <td>0</td>\n",
       "      <td>0</td>\n",
       "    </tr>\n",
       "    <tr>\n",
       "      <th>7</th>\n",
       "      <td>27</td>\n",
       "      <td>F</td>\n",
       "      <td>Caucasian</td>\n",
       "      <td>25 - 45</td>\n",
       "      <td>Male</td>\n",
       "      <td>0</td>\n",
       "      <td>4</td>\n",
       "      <td>0</td>\n",
       "      <td>low_risk</td>\n",
       "      <td>0</td>\n",
       "      <td>1</td>\n",
       "      <td>1024</td>\n",
       "      <td>0</td>\n",
       "      <td>0</td>\n",
       "    </tr>\n",
       "  </tbody>\n",
       "</table>\n",
       "</div>"
      ],
      "text/plain": [
       "   age c_charge_degree              race       age_cat     sex  priors_count  \\\n",
       "1   34               F  African-American       25 - 45    Male             0   \n",
       "2   24               F  African-American  Less than 25    Male             4   \n",
       "4   41               F         Caucasian       25 - 45    Male            14   \n",
       "6   39               M         Caucasian       25 - 45  Female             0   \n",
       "7   27               F         Caucasian       25 - 45    Male             0   \n",
       "\n",
       "   decile_score  two_year_recid  dec_dummy dum_num  charge_dum  dec_sq5  \\\n",
       "1             3               1   low_risk       0           1      243   \n",
       "2             4               1   low_risk       0           1     1024   \n",
       "4             6               1  high_risk       1           1     7776   \n",
       "6             1               0   low_risk       0           0        1   \n",
       "7             4               0   low_risk       0           1     1024   \n",
       "\n",
       "   priors_sq  dec_priors  \n",
       "1          0           0  \n",
       "2         16          16  \n",
       "4        196          84  \n",
       "6          0           0  \n",
       "7          0           0  "
      ]
     },
     "execution_count": 39,
     "metadata": {},
     "output_type": "execute_result"
    }
   ],
   "source": [
    "compas2['dec_sq5'] = compas2['decile_score']**5\n",
    "compas2['priors_sq'] = compas2['priors_count']**2\n",
    "compas2['dec_priors'] = compas2['decile_score'] * compas2['priors_count']\n",
    "compas2.head()"
   ]
  },
  {
   "cell_type": "code",
   "execution_count": 40,
   "id": "1770b053-5eea-46d2-b267-d3ce30e98bfc",
   "metadata": {},
   "outputs": [],
   "source": [
    "X = compas2[['charge_dum', 'age', 'dec_sq5', 'priors_sq', 'dec_priors']]\n",
    "m = LogisticRegression().fit(X, y)"
   ]
  },
  {
   "cell_type": "code",
   "execution_count": 41,
   "id": "50b83a03-3951-4181-a2e1-c3664778d1c1",
   "metadata": {},
   "outputs": [
    {
     "name": "stderr",
     "output_type": "stream",
     "text": [
      "/opt/conda/lib/python3.8/site-packages/sklearn/linear_model/_logistic.py:763: ConvergenceWarning: lbfgs failed to converge (status=1):\n",
      "STOP: TOTAL NO. of ITERATIONS REACHED LIMIT.\n",
      "\n",
      "Increase the number of iterations (max_iter) or scale the data as shown in:\n",
      "    https://scikit-learn.org/stable/modules/preprocessing.html\n",
      "Please also refer to the documentation for alternative solver options:\n",
      "    https://scikit-learn.org/stable/modules/linear_model.html#logistic-regression\n",
      "  n_iter_i = _check_optimize_result(\n",
      "/opt/conda/lib/python3.8/site-packages/sklearn/linear_model/_logistic.py:763: ConvergenceWarning: lbfgs failed to converge (status=1):\n",
      "STOP: TOTAL NO. of ITERATIONS REACHED LIMIT.\n",
      "\n",
      "Increase the number of iterations (max_iter) or scale the data as shown in:\n",
      "    https://scikit-learn.org/stable/modules/preprocessing.html\n",
      "Please also refer to the documentation for alternative solver options:\n",
      "    https://scikit-learn.org/stable/modules/linear_model.html#logistic-regression\n",
      "  n_iter_i = _check_optimize_result(\n"
     ]
    },
    {
     "data": {
      "text/plain": [
       "(0.6670979242136739, 0.738844693355416)"
      ]
     },
     "execution_count": 41,
     "metadata": {},
     "output_type": "execute_result"
    }
   ],
   "source": [
    "cval_accuracy = cross_val_score(m, X, y, scoring=\"accuracy\", cv=10)\n",
    "cval_precision = cross_val_score(m, X, y, scoring=\"precision\", cv=10)\n",
    "cval_accuracy.mean(), cval_precision.mean()"
   ]
  },
  {
   "cell_type": "markdown",
   "id": "47bc0af7-d35a-4fc6-9a42-a744f2003261",
   "metadata": {},
   "source": [
    "I tried to mess with the age variable but I would get worse scores than before, so I took it out of the model. I then messed with the decile_score variable and noticed that the precision value increases the more that the power increases, so that's why it's at 5. This gave it a precision score of around 73%, which is 5 points higher than before. I added priors_count variable and squared that to get better precision. And finally, I multiplied the newly created variables and got a precision score that was nearly 6 points higher than before (74%). I'm not sure why I get a big red error message here."
   ]
  },
  {
   "cell_type": "markdown",
   "id": "f231e7a4-60a8-41a8-8569-34470bd9cc26",
   "metadata": {},
   "source": [
    "4. (4pt) Now add sex to the model. Does it help to improve the performance?"
   ]
  },
  {
   "cell_type": "code",
   "execution_count": 42,
   "id": "35d184c3-7260-4b82-86b8-6eb296ab66b6",
   "metadata": {},
   "outputs": [
    {
     "name": "stderr",
     "output_type": "stream",
     "text": [
      "<ipython-input-42-f56990b4dc27>:1: SettingWithCopyWarning: \n",
      "A value is trying to be set on a copy of a slice from a DataFrame.\n",
      "Try using .loc[row_indexer,col_indexer] = value instead\n",
      "\n",
      "See the caveats in the documentation: https://pandas.pydata.org/pandas-docs/stable/user_guide/indexing.html#returning-a-view-versus-a-copy\n",
      "  compas2['sex_dum'] = np.where(compas2.sex == 'Male', 1, 0)\n"
     ]
    }
   ],
   "source": [
    "compas2['sex_dum'] = np.where(compas2.sex == 'Male', 1, 0)\n",
    "X = compas2[['charge_dum', 'age', 'dec_sq5', 'priors_sq', 'dec_priors',\n",
    "            'sex_dum']]\n",
    "m = LogisticRegression().fit(X, y)"
   ]
  },
  {
   "cell_type": "code",
   "execution_count": 43,
   "id": "ef03c99d-a567-46e9-9ee7-4e584e2c168a",
   "metadata": {},
   "outputs": [
    {
     "name": "stderr",
     "output_type": "stream",
     "text": [
      "/opt/conda/lib/python3.8/site-packages/sklearn/linear_model/_logistic.py:763: ConvergenceWarning: lbfgs failed to converge (status=1):\n",
      "STOP: TOTAL NO. of ITERATIONS REACHED LIMIT.\n",
      "\n",
      "Increase the number of iterations (max_iter) or scale the data as shown in:\n",
      "    https://scikit-learn.org/stable/modules/preprocessing.html\n",
      "Please also refer to the documentation for alternative solver options:\n",
      "    https://scikit-learn.org/stable/modules/linear_model.html#logistic-regression\n",
      "  n_iter_i = _check_optimize_result(\n",
      "/opt/conda/lib/python3.8/site-packages/sklearn/linear_model/_logistic.py:763: ConvergenceWarning: lbfgs failed to converge (status=1):\n",
      "STOP: TOTAL NO. of ITERATIONS REACHED LIMIT.\n",
      "\n",
      "Increase the number of iterations (max_iter) or scale the data as shown in:\n",
      "    https://scikit-learn.org/stable/modules/preprocessing.html\n",
      "Please also refer to the documentation for alternative solver options:\n",
      "    https://scikit-learn.org/stable/modules/linear_model.html#logistic-regression\n",
      "  n_iter_i = _check_optimize_result(\n"
     ]
    },
    {
     "data": {
      "text/plain": [
       "(0.6693742452992929, 0.7357323877194704)"
      ]
     },
     "execution_count": 43,
     "metadata": {},
     "output_type": "execute_result"
    }
   ],
   "source": [
    "cval_accuracy = cross_val_score(m, X, y, scoring=\"accuracy\", cv=10)\n",
    "cval_precision = cross_val_score(m, X, y, scoring=\"precision\", cv=10)\n",
    "cval_accuracy.mean(), cval_precision.mean()"
   ]
  },
  {
   "cell_type": "markdown",
   "id": "6b49ae4d-7b1d-436e-865a-0f13943871ea",
   "metadata": {},
   "source": [
    "It slightly improved accuracy by 0.2%, but it got a worse precision score by 0.3% which is the most important measure here."
   ]
  },
  {
   "cell_type": "markdown",
   "id": "6948cbaa-97f2-48b9-b1c7-194f1f77a0aa",
   "metadata": {},
   "source": [
    "5. (4pt) And finally add race. Does the model improve?"
   ]
  },
  {
   "cell_type": "code",
   "execution_count": 44,
   "id": "24f1746d-1d82-4678-9b90-7d81f54693a0",
   "metadata": {},
   "outputs": [
    {
     "name": "stderr",
     "output_type": "stream",
     "text": [
      "<ipython-input-44-e50b72f99629>:1: SettingWithCopyWarning: \n",
      "A value is trying to be set on a copy of a slice from a DataFrame.\n",
      "Try using .loc[row_indexer,col_indexer] = value instead\n",
      "\n",
      "See the caveats in the documentation: https://pandas.pydata.org/pandas-docs/stable/user_guide/indexing.html#returning-a-view-versus-a-copy\n",
      "  compas2['race_dum'] = np.where(compas2.race == 'African-American', 1, 0)\n"
     ]
    }
   ],
   "source": [
    "compas2['race_dum'] = np.where(compas2.race == 'African-American', 1, 0)\n",
    "X = compas2[['charge_dum', 'age', 'dec_sq5', 'priors_sq', 'dec_priors',\n",
    "            'sex_dum', 'race_dum']]\n",
    "m = LogisticRegression().fit(X, y)"
   ]
  },
  {
   "cell_type": "code",
   "execution_count": 45,
   "id": "81f54b3b-0996-4a53-8290-14fdd71a7907",
   "metadata": {},
   "outputs": [
    {
     "data": {
      "text/plain": [
       "(0.6706964090621585, 0.7300937768079361)"
      ]
     },
     "execution_count": 45,
     "metadata": {},
     "output_type": "execute_result"
    }
   ],
   "source": [
    "cval_accuracy = cross_val_score(m, X, y, scoring=\"accuracy\", cv=10)\n",
    "cval_precision = cross_val_score(m, X, y, scoring=\"precision\", cv=10)\n",
    "cval_accuracy.mean(), cval_precision.mean()"
   ]
  },
  {
   "cell_type": "markdown",
   "id": "8cc4581e-93f3-4b53-a50b-cec096779bdf",
   "metadata": {},
   "source": [
    "It improved accuracy but did not improve the precision."
   ]
  },
  {
   "cell_type": "markdown",
   "id": "4736aa8e-9296-4158-b553-f415ac821d36",
   "metadata": {},
   "source": [
    "6. (12pt) Discuss the results. Did you manage to be equally good as COMPAS? Did you create a better model? Do gender and race help to improve your predictions? What should judges do when having access to such models? Should they use such models?\n",
    "\n",
    "My model managed to be equally as good as COMPAS because it had higher precision and accuracy values, meaning that it performs better. When adding gender, the accuracy got slightly better, and it got better when adding race. However, aftering adding those variables, the precision score got worse and worse. When judges have access to such models, they should be conscious of the bias that is embedded in these models and remember that no model is perfect, despite how technilogically advanced it seems. Judges should still rely on their own judicial judgement to decide the fate of criminals because no model can replace this process."
   ]
  },
  {
   "cell_type": "markdown",
   "id": "1b8ab70e-ac6b-4049-b0fa-63e0b59f7f5b",
   "metadata": {},
   "source": [
    "*I spent 5"
   ]
  }
 ],
 "metadata": {
  "kernelspec": {
   "display_name": "Python 3",
   "language": "python",
   "name": "python3"
  },
  "language_info": {
   "codemirror_mode": {
    "name": "ipython",
    "version": 3
   },
   "file_extension": ".py",
   "mimetype": "text/x-python",
   "name": "python",
   "nbconvert_exporter": "python",
   "pygments_lexer": "ipython3",
   "version": "3.8.8"
  }
 },
 "nbformat": 4,
 "nbformat_minor": 5
}
